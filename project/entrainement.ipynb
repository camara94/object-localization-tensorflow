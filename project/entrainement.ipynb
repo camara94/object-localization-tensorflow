{
 "cells": [
  {
   "cell_type": "markdown",
   "id": "7ad511fe-da19-4dd6-a0df-8880637a7c4f",
   "metadata": {},
   "source": [
    "# Detection d'object en Tensorflow"
   ]
  },
  {
   "cell_type": "markdown",
   "id": "dfa8a8cf-7bf2-43a8-a0bf-10be3f9017e9",
   "metadata": {},
   "source": [
    "## Importation des packages"
   ]
  },
  {
   "cell_type": "code",
   "execution_count": 3,
   "id": "4077b5d2-8ba2-42a6-bf9e-6d86d2d63037",
   "metadata": {},
   "outputs": [
    {
     "name": "stdout",
     "output_type": "stream",
     "text": [
      "La version Tensorflow est : 2.8.0\n"
     ]
    }
   ],
   "source": [
    "import tensorflow as tf\n",
    "import numpy as np\n",
    "import matplotlib.pylab as plt\n",
    "import os\n",
    "from PIL import Image, ImageDraw\n",
    "from tensorflow.keras.layers import Input, Dense, Flatten, BatchNormalization, Dropout\n",
    "print(f'La version Tensorflow est : {tf.__version__}')"
   ]
  },
  {
   "cell_type": "code",
   "execution_count": null,
   "id": "05a11553-04ed-43d2-be45-d061ca34d784",
   "metadata": {},
   "outputs": [],
   "source": [
    "%matplotlib inline"
   ]
  }
 ],
 "metadata": {
  "kernelspec": {
   "display_name": "Python 3",
   "language": "python",
   "name": "python3"
  },
  "language_info": {
   "codemirror_mode": {
    "name": "ipython",
    "version": 3
   },
   "file_extension": ".py",
   "mimetype": "text/x-python",
   "name": "python",
   "nbconvert_exporter": "python",
   "pygments_lexer": "ipython3",
   "version": "3.8.5"
  }
 },
 "nbformat": 4,
 "nbformat_minor": 5
}
